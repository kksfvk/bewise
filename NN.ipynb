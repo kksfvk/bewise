{
 "cells": [
  {
   "cell_type": "code",
   "execution_count": 115,
   "id": "db51c800-227e-49aa-b798-b201eadfbbe4",
   "metadata": {},
   "outputs": [],
   "source": [
    "import numpy as np\n",
    "class Neutral_Network:\n",
    "    \n",
    "    def __init__(self):\n",
    "        self.x=[]\n",
    "        self.y=[]\n",
    "        self.amount_neuron=[]\n",
    "        self.w={}\n",
    "    \n",
    "    def fit(self,x,y,w={},\n",
    "            amount_neuron=[5],\n",
    "            epohs=10,\n",
    "            ):\n",
    "        self.x=x\n",
    "        self.y=y\n",
    "        self.amount_neuron=amount_neuron\n",
    "        self.epohs=epohs\n",
    "        self.w={}\n",
    "        if w:\n",
    "            print(2)\n",
    "            self.w[0]=np.random.rand(len(x), self.amount_neuron[0])\n",
    "            if len(self.amount_neuron)>1:\n",
    "                for i in range(1,len(amount_neuron)):\n",
    "                    w[i]=np.random.rand(self.amount_neuron[i-1], self.amount_neuron[i])\n",
    "        else:\n",
    "            temp_len=len(x)//len(y)\n",
    "            temp_i=0\n",
    "            while temp_len>1:\n",
    "                w[temp_i]=np.random.rand(, )\n",
    "                \n",
    "            \n",
    "        \n",
    "\n",
    "\n"
   ]
  },
  {
   "cell_type": "code",
   "execution_count": 116,
   "id": "d502d58e-f8be-4114-a886-6daa382ff082",
   "metadata": {},
   "outputs": [],
   "source": [
    "a=Neutral_Network()"
   ]
  },
  {
   "cell_type": "code",
   "execution_count": 124,
   "id": "82dee618-6334-4190-af1f-bb9930e09d80",
   "metadata": {},
   "outputs": [
    {
     "name": "stdout",
     "output_type": "stream",
     "text": [
      "1\n"
     ]
    }
   ],
   "source": [
    "a.fit(x=[0,1,2,3,2],y=[3,1],amount_neuron=[2,2,2])"
   ]
  },
  {
   "cell_type": "code",
   "execution_count": 125,
   "id": "7262e9a3-fd7e-4c3c-9fd8-e6d75c25a0b7",
   "metadata": {},
   "outputs": [
    {
     "data": {
      "text/plain": [
       "{1: array([[0.62345895, 0.16899416],\n",
       "        [0.9220924 , 0.75791423]])}"
      ]
     },
     "execution_count": 125,
     "metadata": {},
     "output_type": "execute_result"
    }
   ],
   "source": [
    "a.w"
   ]
  },
  {
   "cell_type": "code",
   "execution_count": 76,
   "id": "619d1da5-6745-4cb9-921a-0cbd76faf12c",
   "metadata": {},
   "outputs": [],
   "source": [
    "q[0]=np.random.rand(3,5)"
   ]
  },
  {
   "cell_type": "code",
   "execution_count": 77,
   "id": "70d28007-6148-4b01-804b-6841d914a410",
   "metadata": {},
   "outputs": [],
   "source": [
    "q[1]=np.random.rand(5,2)"
   ]
  },
  {
   "cell_type": "code",
   "execution_count": 81,
   "id": "bac605dc-b86e-4ee1-80c1-5750b700c133",
   "metadata": {},
   "outputs": [
    {
     "data": {
      "text/plain": [
       "array([[1.59670845, 0.92799853],\n",
       "       [1.63174533, 0.90329969],\n",
       "       [1.58089723, 1.58511865]])"
      ]
     },
     "execution_count": 81,
     "metadata": {},
     "output_type": "execute_result"
    }
   ],
   "source": [
    "q[0]@q[1]"
   ]
  },
  {
   "cell_type": "code",
   "execution_count": 46,
   "id": "79b42f88-9f9d-4ba6-95df-3011a23f9863",
   "metadata": {},
   "outputs": [
    {
     "name": "stdout",
     "output_type": "stream",
     "text": [
      "0\n",
      "1\n"
     ]
    }
   ],
   "source": [
    "for i in q:\n",
    "    print(i)"
   ]
  },
  {
   "cell_type": "code",
   "execution_count": 53,
   "id": "1b0d6727-4fb5-4352-aa38-5719ec15f38f",
   "metadata": {},
   "outputs": [
    {
     "name": "stdout",
     "output_type": "stream",
     "text": [
      "ddo)\n"
     ]
    }
   ],
   "source": [
    "if q:\n",
    "    print('ddo)')\n",
    "else:\n",
    "    print('aass')"
   ]
  },
  {
   "cell_type": "code",
   "execution_count": 69,
   "id": "027da487-22ec-45c0-beb5-46478405fb12",
   "metadata": {},
   "outputs": [],
   "source": [
    "amount_neuron=[5,0]"
   ]
  },
  {
   "cell_type": "code",
   "execution_count": 70,
   "id": "7814e078-bb80-49ec-8ada-0c26acd204c2",
   "metadata": {},
   "outputs": [
    {
     "data": {
      "text/plain": [
       "2"
      ]
     },
     "execution_count": 70,
     "metadata": {},
     "output_type": "execute_result"
    }
   ],
   "source": [
    "len(amount_neuron)"
   ]
  },
  {
   "cell_type": "code",
   "execution_count": 128,
   "id": "a099c90a-643a-4112-826c-85f2830ff08d",
   "metadata": {},
   "outputs": [
    {
     "data": {
      "text/plain": [
       "5"
      ]
     },
     "execution_count": 128,
     "metadata": {},
     "output_type": "execute_result"
    }
   ],
   "source": [
    "10//2"
   ]
  },
  {
   "cell_type": "code",
   "execution_count": null,
   "id": "c32779bb-26e9-4f82-b0e3-9d2f656e1f79",
   "metadata": {},
   "outputs": [],
   "source": []
  }
 ],
 "metadata": {
  "kernelspec": {
   "display_name": "Python 3 (ipykernel)",
   "language": "python",
   "name": "python3"
  },
  "language_info": {
   "codemirror_mode": {
    "name": "ipython",
    "version": 3
   },
   "file_extension": ".py",
   "mimetype": "text/x-python",
   "name": "python",
   "nbconvert_exporter": "python",
   "pygments_lexer": "ipython3",
   "version": "3.10.7"
  }
 },
 "nbformat": 4,
 "nbformat_minor": 5
}
